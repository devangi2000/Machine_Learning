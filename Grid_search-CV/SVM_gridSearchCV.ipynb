{
 "cells": [
  {
   "cell_type": "code",
   "execution_count": 1,
   "metadata": {},
   "outputs": [],
   "source": [
    "import numpy as np\n",
    "import pandas as pd\n",
    "import matplotlib.pyplot as plt\n",
    "\n",
    "%matplotlib inline"
   ]
  },
  {
   "cell_type": "code",
   "execution_count": 2,
   "metadata": {},
   "outputs": [
    {
     "data": {
      "text/html": [
       "<div>\n",
       "<style scoped>\n",
       "    .dataframe tbody tr th:only-of-type {\n",
       "        vertical-align: middle;\n",
       "    }\n",
       "\n",
       "    .dataframe tbody tr th {\n",
       "        vertical-align: top;\n",
       "    }\n",
       "\n",
       "    .dataframe thead th {\n",
       "        text-align: right;\n",
       "    }\n",
       "</style>\n",
       "<table border=\"1\" class=\"dataframe\">\n",
       "  <thead>\n",
       "    <tr style=\"text-align: right;\">\n",
       "      <th></th>\n",
       "      <th>User ID</th>\n",
       "      <th>Gender</th>\n",
       "      <th>Age</th>\n",
       "      <th>EstimatedSalary</th>\n",
       "      <th>Purchased</th>\n",
       "    </tr>\n",
       "  </thead>\n",
       "  <tbody>\n",
       "    <tr>\n",
       "      <td>0</td>\n",
       "      <td>15624510</td>\n",
       "      <td>Male</td>\n",
       "      <td>19.0</td>\n",
       "      <td>19000.0</td>\n",
       "      <td>0</td>\n",
       "    </tr>\n",
       "    <tr>\n",
       "      <td>1</td>\n",
       "      <td>15810944</td>\n",
       "      <td>Male</td>\n",
       "      <td>35.0</td>\n",
       "      <td>20000.0</td>\n",
       "      <td>0</td>\n",
       "    </tr>\n",
       "    <tr>\n",
       "      <td>2</td>\n",
       "      <td>15668575</td>\n",
       "      <td>Female</td>\n",
       "      <td>26.0</td>\n",
       "      <td>43000.0</td>\n",
       "      <td>0</td>\n",
       "    </tr>\n",
       "    <tr>\n",
       "      <td>3</td>\n",
       "      <td>15603246</td>\n",
       "      <td>Female</td>\n",
       "      <td>27.0</td>\n",
       "      <td>57000.0</td>\n",
       "      <td>0</td>\n",
       "    </tr>\n",
       "    <tr>\n",
       "      <td>4</td>\n",
       "      <td>15804002</td>\n",
       "      <td>Male</td>\n",
       "      <td>19.0</td>\n",
       "      <td>76000.0</td>\n",
       "      <td>0</td>\n",
       "    </tr>\n",
       "    <tr>\n",
       "      <td>...</td>\n",
       "      <td>...</td>\n",
       "      <td>...</td>\n",
       "      <td>...</td>\n",
       "      <td>...</td>\n",
       "      <td>...</td>\n",
       "    </tr>\n",
       "    <tr>\n",
       "      <td>395</td>\n",
       "      <td>15691863</td>\n",
       "      <td>Female</td>\n",
       "      <td>46.0</td>\n",
       "      <td>41000.0</td>\n",
       "      <td>1</td>\n",
       "    </tr>\n",
       "    <tr>\n",
       "      <td>396</td>\n",
       "      <td>15706071</td>\n",
       "      <td>Male</td>\n",
       "      <td>51.0</td>\n",
       "      <td>23000.0</td>\n",
       "      <td>1</td>\n",
       "    </tr>\n",
       "    <tr>\n",
       "      <td>397</td>\n",
       "      <td>15654296</td>\n",
       "      <td>Female</td>\n",
       "      <td>50.0</td>\n",
       "      <td>20000.0</td>\n",
       "      <td>1</td>\n",
       "    </tr>\n",
       "    <tr>\n",
       "      <td>398</td>\n",
       "      <td>15755018</td>\n",
       "      <td>Male</td>\n",
       "      <td>36.0</td>\n",
       "      <td>33000.0</td>\n",
       "      <td>0</td>\n",
       "    </tr>\n",
       "    <tr>\n",
       "      <td>399</td>\n",
       "      <td>15594041</td>\n",
       "      <td>Female</td>\n",
       "      <td>49.0</td>\n",
       "      <td>36000.0</td>\n",
       "      <td>1</td>\n",
       "    </tr>\n",
       "  </tbody>\n",
       "</table>\n",
       "<p>400 rows × 5 columns</p>\n",
       "</div>"
      ],
      "text/plain": [
       "      User ID  Gender   Age  EstimatedSalary  Purchased\n",
       "0    15624510    Male  19.0          19000.0          0\n",
       "1    15810944    Male  35.0          20000.0          0\n",
       "2    15668575  Female  26.0          43000.0          0\n",
       "3    15603246  Female  27.0          57000.0          0\n",
       "4    15804002    Male  19.0          76000.0          0\n",
       "..        ...     ...   ...              ...        ...\n",
       "395  15691863  Female  46.0          41000.0          1\n",
       "396  15706071    Male  51.0          23000.0          1\n",
       "397  15654296  Female  50.0          20000.0          1\n",
       "398  15755018    Male  36.0          33000.0          0\n",
       "399  15594041  Female  49.0          36000.0          1\n",
       "\n",
       "[400 rows x 5 columns]"
      ]
     },
     "execution_count": 2,
     "metadata": {},
     "output_type": "execute_result"
    }
   ],
   "source": [
    "dataset = pd.read_csv('Advertising_data.csv')\n",
    "dataset"
   ]
  },
  {
   "cell_type": "code",
   "execution_count": 3,
   "metadata": {},
   "outputs": [],
   "source": [
    "X = dataset.iloc[:, [2,3]].values\n",
    "y = dataset.iloc[:, -1].values"
   ]
  },
  {
   "cell_type": "code",
   "execution_count": 4,
   "metadata": {},
   "outputs": [
    {
     "data": {
      "text/html": [
       "<div>\n",
       "<style scoped>\n",
       "    .dataframe tbody tr th:only-of-type {\n",
       "        vertical-align: middle;\n",
       "    }\n",
       "\n",
       "    .dataframe tbody tr th {\n",
       "        vertical-align: top;\n",
       "    }\n",
       "\n",
       "    .dataframe thead th {\n",
       "        text-align: right;\n",
       "    }\n",
       "</style>\n",
       "<table border=\"1\" class=\"dataframe\">\n",
       "  <thead>\n",
       "    <tr style=\"text-align: right;\">\n",
       "      <th></th>\n",
       "      <th>User ID</th>\n",
       "      <th>Gender</th>\n",
       "      <th>Age</th>\n",
       "      <th>EstimatedSalary</th>\n",
       "      <th>Purchased</th>\n",
       "    </tr>\n",
       "  </thead>\n",
       "  <tbody>\n",
       "    <tr>\n",
       "      <td>0</td>\n",
       "      <td>15624510</td>\n",
       "      <td>Male</td>\n",
       "      <td>19.0</td>\n",
       "      <td>19000.0</td>\n",
       "      <td>0</td>\n",
       "    </tr>\n",
       "    <tr>\n",
       "      <td>1</td>\n",
       "      <td>15810944</td>\n",
       "      <td>Male</td>\n",
       "      <td>35.0</td>\n",
       "      <td>20000.0</td>\n",
       "      <td>0</td>\n",
       "    </tr>\n",
       "    <tr>\n",
       "      <td>2</td>\n",
       "      <td>15668575</td>\n",
       "      <td>Female</td>\n",
       "      <td>26.0</td>\n",
       "      <td>43000.0</td>\n",
       "      <td>0</td>\n",
       "    </tr>\n",
       "    <tr>\n",
       "      <td>3</td>\n",
       "      <td>15603246</td>\n",
       "      <td>Female</td>\n",
       "      <td>27.0</td>\n",
       "      <td>57000.0</td>\n",
       "      <td>0</td>\n",
       "    </tr>\n",
       "    <tr>\n",
       "      <td>4</td>\n",
       "      <td>15804002</td>\n",
       "      <td>Male</td>\n",
       "      <td>19.0</td>\n",
       "      <td>76000.0</td>\n",
       "      <td>0</td>\n",
       "    </tr>\n",
       "  </tbody>\n",
       "</table>\n",
       "</div>"
      ],
      "text/plain": [
       "    User ID  Gender   Age  EstimatedSalary  Purchased\n",
       "0  15624510    Male  19.0          19000.0          0\n",
       "1  15810944    Male  35.0          20000.0          0\n",
       "2  15668575  Female  26.0          43000.0          0\n",
       "3  15603246  Female  27.0          57000.0          0\n",
       "4  15804002    Male  19.0          76000.0          0"
      ]
     },
     "execution_count": 4,
     "metadata": {},
     "output_type": "execute_result"
    }
   ],
   "source": [
    "dataset.head()"
   ]
  },
  {
   "cell_type": "code",
   "execution_count": 5,
   "metadata": {},
   "outputs": [
    {
     "data": {
      "text/plain": [
       "array([[1.90e+01, 1.90e+04],\n",
       "       [3.50e+01, 2.00e+04],\n",
       "       [2.60e+01, 4.30e+04],\n",
       "       [2.70e+01, 5.70e+04],\n",
       "       [1.90e+01, 7.60e+04],\n",
       "       [2.70e+01, 5.80e+04],\n",
       "       [2.70e+01, 8.40e+04],\n",
       "       [3.20e+01, 1.50e+05],\n",
       "       [2.50e+01, 3.30e+04],\n",
       "       [3.50e+01, 6.50e+04],\n",
       "       [2.60e+01, 8.00e+04],\n",
       "       [2.60e+01, 5.20e+04],\n",
       "       [2.00e+01, 8.60e+04],\n",
       "       [3.20e+01, 1.80e+04],\n",
       "       [1.80e+01, 8.20e+04],\n",
       "       [2.90e+01, 8.00e+04],\n",
       "       [4.70e+01, 2.50e+04],\n",
       "       [4.50e+01, 2.60e+04],\n",
       "       [4.60e+01, 2.80e+04],\n",
       "       [4.80e+01, 2.90e+04],\n",
       "       [4.50e+01, 2.20e+04],\n",
       "       [4.70e+01, 4.90e+04],\n",
       "       [4.80e+01, 4.10e+04],\n",
       "       [4.50e+01, 2.20e+04],\n",
       "       [4.60e+01, 2.30e+04],\n",
       "       [4.70e+01, 2.00e+04],\n",
       "       [4.90e+01, 2.80e+04],\n",
       "       [4.70e+01, 3.00e+04],\n",
       "       [2.90e+01, 4.30e+04],\n",
       "       [3.10e+01, 1.80e+04],\n",
       "       [3.10e+01, 7.40e+04],\n",
       "       [2.70e+01, 1.37e+05],\n",
       "       [2.10e+01, 1.60e+04],\n",
       "       [2.80e+01, 4.40e+04],\n",
       "       [2.70e+01, 9.00e+04],\n",
       "       [3.50e+01, 2.70e+04],\n",
       "       [3.30e+01, 2.80e+04],\n",
       "       [3.00e+01, 4.90e+04],\n",
       "       [2.60e+01, 7.20e+04],\n",
       "       [2.70e+01, 3.10e+04],\n",
       "       [2.70e+01, 1.70e+04],\n",
       "       [3.30e+01, 5.10e+04],\n",
       "       [3.50e+01, 1.08e+05],\n",
       "       [3.00e+01, 1.50e+04],\n",
       "       [2.80e+01, 8.40e+04],\n",
       "       [2.30e+01, 2.00e+04],\n",
       "       [2.50e+01, 7.90e+04],\n",
       "       [2.70e+01, 5.40e+04],\n",
       "       [3.00e+01, 1.35e+05],\n",
       "       [3.10e+01, 8.90e+04],\n",
       "       [2.40e+01, 3.20e+04],\n",
       "       [1.80e+01, 4.40e+04],\n",
       "       [2.90e+01, 8.30e+04],\n",
       "       [3.50e+01, 2.30e+04],\n",
       "       [2.70e+01, 5.80e+04],\n",
       "       [2.40e+01, 5.50e+04],\n",
       "       [2.30e+01, 4.80e+04],\n",
       "       [2.80e+01, 7.90e+04],\n",
       "       [2.20e+01, 1.80e+04],\n",
       "       [3.20e+01, 1.17e+05],\n",
       "       [2.70e+01, 2.00e+04],\n",
       "       [2.50e+01, 8.70e+04],\n",
       "       [2.30e+01, 6.60e+04],\n",
       "       [3.20e+01, 1.20e+05],\n",
       "       [5.90e+01, 8.30e+04],\n",
       "       [2.40e+01, 5.80e+04],\n",
       "       [2.40e+01, 1.90e+04],\n",
       "       [2.30e+01, 8.20e+04],\n",
       "       [2.20e+01, 6.30e+04],\n",
       "       [3.10e+01, 6.80e+04],\n",
       "       [2.50e+01, 8.00e+04],\n",
       "       [2.40e+01, 2.70e+04],\n",
       "       [2.00e+01, 2.30e+04],\n",
       "       [3.30e+01, 1.13e+05],\n",
       "       [3.20e+01, 1.80e+04],\n",
       "       [3.40e+01, 1.12e+05],\n",
       "       [1.80e+01, 5.20e+04],\n",
       "       [2.20e+01, 2.70e+04],\n",
       "       [2.80e+01, 8.70e+04],\n",
       "       [2.60e+01, 1.70e+04],\n",
       "       [3.00e+01, 8.00e+04],\n",
       "       [3.90e+01, 4.20e+04],\n",
       "       [2.00e+01, 4.90e+04],\n",
       "       [3.50e+01, 8.80e+04],\n",
       "       [3.00e+01, 6.20e+04],\n",
       "       [3.10e+01, 1.18e+05],\n",
       "       [2.40e+01, 5.50e+04],\n",
       "       [2.80e+01, 8.50e+04],\n",
       "       [2.60e+01, 8.10e+04],\n",
       "       [3.50e+01, 5.00e+04],\n",
       "       [2.20e+01, 8.10e+04],\n",
       "       [3.00e+01, 1.16e+05],\n",
       "       [2.60e+01, 1.50e+04],\n",
       "       [2.90e+01, 2.80e+04],\n",
       "       [2.90e+01, 8.30e+04],\n",
       "       [3.50e+01, 4.40e+04],\n",
       "       [3.50e+01, 2.50e+04],\n",
       "       [2.80e+01, 1.23e+05],\n",
       "       [3.50e+01, 7.30e+04],\n",
       "       [2.80e+01, 3.70e+04],\n",
       "       [2.70e+01, 8.80e+04],\n",
       "       [2.80e+01, 5.90e+04],\n",
       "       [3.20e+01, 8.60e+04],\n",
       "       [3.30e+01, 1.49e+05],\n",
       "       [1.90e+01, 2.10e+04],\n",
       "       [2.10e+01, 7.20e+04],\n",
       "       [2.60e+01, 3.50e+04],\n",
       "       [2.70e+01, 8.90e+04],\n",
       "       [2.60e+01, 8.60e+04],\n",
       "       [3.80e+01, 8.00e+04],\n",
       "       [3.90e+01, 7.10e+04],\n",
       "       [3.70e+01, 7.10e+04],\n",
       "       [3.80e+01, 6.10e+04],\n",
       "       [3.70e+01, 5.50e+04],\n",
       "       [4.20e+01, 8.00e+04],\n",
       "       [4.00e+01, 5.70e+04],\n",
       "       [3.50e+01, 7.50e+04],\n",
       "       [3.60e+01, 5.20e+04],\n",
       "       [4.00e+01, 5.90e+04],\n",
       "       [4.10e+01, 5.90e+04],\n",
       "       [3.60e+01, 7.50e+04],\n",
       "       [3.70e+01, 7.20e+04],\n",
       "       [4.00e+01, 7.50e+04],\n",
       "       [3.50e+01, 5.30e+04],\n",
       "       [4.10e+01, 5.10e+04],\n",
       "       [3.90e+01, 6.10e+04],\n",
       "       [4.20e+01, 6.50e+04],\n",
       "       [2.60e+01, 3.20e+04],\n",
       "       [3.00e+01, 1.70e+04],\n",
       "       [2.60e+01, 8.40e+04],\n",
       "       [3.10e+01, 5.80e+04],\n",
       "       [3.30e+01, 3.10e+04],\n",
       "       [3.00e+01, 8.70e+04],\n",
       "       [2.10e+01, 6.80e+04],\n",
       "       [2.80e+01, 5.50e+04],\n",
       "       [2.30e+01, 6.30e+04],\n",
       "       [2.00e+01, 8.20e+04],\n",
       "       [3.00e+01, 1.07e+05],\n",
       "       [2.80e+01, 5.90e+04],\n",
       "       [1.90e+01, 2.50e+04],\n",
       "       [1.90e+01, 8.50e+04],\n",
       "       [1.80e+01, 6.80e+04],\n",
       "       [3.50e+01, 5.90e+04],\n",
       "       [3.00e+01, 8.90e+04],\n",
       "       [3.40e+01, 2.50e+04],\n",
       "       [2.40e+01, 8.90e+04],\n",
       "       [2.70e+01, 9.60e+04],\n",
       "       [4.10e+01, 3.00e+04],\n",
       "       [2.90e+01, 6.10e+04],\n",
       "       [2.00e+01, 7.40e+04],\n",
       "       [2.60e+01, 1.50e+04],\n",
       "       [4.10e+01, 4.50e+04],\n",
       "       [3.10e+01, 7.60e+04],\n",
       "       [3.60e+01, 5.00e+04],\n",
       "       [4.00e+01, 4.70e+04],\n",
       "       [3.10e+01, 1.50e+04],\n",
       "       [4.60e+01, 5.90e+04],\n",
       "       [2.90e+01, 7.50e+04],\n",
       "       [2.60e+01, 3.00e+04],\n",
       "       [3.20e+01, 1.35e+05],\n",
       "       [3.20e+01, 1.00e+05],\n",
       "       [2.50e+01, 9.00e+04],\n",
       "       [3.70e+01, 3.30e+04],\n",
       "       [3.50e+01, 3.80e+04],\n",
       "       [3.30e+01, 6.90e+04],\n",
       "       [1.80e+01, 8.60e+04],\n",
       "       [2.20e+01, 5.50e+04],\n",
       "       [3.50e+01, 7.10e+04],\n",
       "       [2.90e+01, 1.48e+05],\n",
       "       [2.90e+01, 4.70e+04],\n",
       "       [2.10e+01, 8.80e+04],\n",
       "       [3.40e+01, 1.15e+05],\n",
       "       [2.60e+01, 1.18e+05],\n",
       "       [3.40e+01, 4.30e+04],\n",
       "       [3.40e+01, 7.20e+04],\n",
       "       [2.30e+01, 2.80e+04],\n",
       "       [3.50e+01, 4.70e+04],\n",
       "       [2.50e+01, 2.20e+04],\n",
       "       [2.40e+01, 2.30e+04],\n",
       "       [3.10e+01, 3.40e+04],\n",
       "       [2.60e+01, 1.60e+04],\n",
       "       [3.10e+01, 7.10e+04],\n",
       "       [3.20e+01, 1.17e+05],\n",
       "       [3.30e+01, 4.30e+04],\n",
       "       [3.30e+01, 6.00e+04],\n",
       "       [3.10e+01, 6.60e+04],\n",
       "       [2.00e+01, 8.20e+04],\n",
       "       [3.30e+01, 4.10e+04],\n",
       "       [3.50e+01, 7.20e+04],\n",
       "       [2.80e+01, 3.20e+04],\n",
       "       [2.40e+01, 8.40e+04],\n",
       "       [1.90e+01, 2.60e+04],\n",
       "       [2.90e+01, 4.30e+04],\n",
       "       [1.90e+01, 7.00e+04],\n",
       "       [2.80e+01, 8.90e+04],\n",
       "       [3.40e+01, 4.30e+04],\n",
       "       [3.00e+01, 7.90e+04],\n",
       "       [2.00e+01, 3.60e+04],\n",
       "       [2.60e+01, 8.00e+04],\n",
       "       [3.50e+01, 2.20e+04],\n",
       "       [3.50e+01, 3.90e+04],\n",
       "       [4.90e+01, 7.40e+04],\n",
       "       [3.90e+01, 1.34e+05],\n",
       "       [4.10e+01, 7.10e+04],\n",
       "       [5.80e+01, 1.01e+05],\n",
       "       [4.70e+01, 4.70e+04],\n",
       "       [5.50e+01, 1.30e+05],\n",
       "       [5.20e+01, 1.14e+05],\n",
       "       [4.00e+01, 1.42e+05],\n",
       "       [4.60e+01, 2.20e+04],\n",
       "       [4.80e+01, 9.60e+04],\n",
       "       [5.20e+01, 1.50e+05],\n",
       "       [5.90e+01, 4.20e+04],\n",
       "       [3.50e+01, 5.80e+04],\n",
       "       [4.70e+01, 4.30e+04],\n",
       "       [6.00e+01, 1.08e+05],\n",
       "       [4.90e+01, 6.50e+04],\n",
       "       [4.00e+01, 7.80e+04],\n",
       "       [4.60e+01, 9.60e+04],\n",
       "       [5.90e+01, 1.43e+05],\n",
       "       [4.10e+01, 8.00e+04],\n",
       "       [3.50e+01, 9.10e+04],\n",
       "       [3.70e+01, 1.44e+05],\n",
       "       [6.00e+01, 1.02e+05],\n",
       "       [3.50e+01, 6.00e+04],\n",
       "       [3.70e+01, 5.30e+04],\n",
       "       [3.60e+01, 1.26e+05],\n",
       "       [5.60e+01, 1.33e+05],\n",
       "       [4.00e+01, 7.20e+04],\n",
       "       [4.20e+01, 8.00e+04],\n",
       "       [3.50e+01, 1.47e+05],\n",
       "       [3.90e+01, 4.20e+04],\n",
       "       [4.00e+01, 1.07e+05],\n",
       "       [4.90e+01, 8.60e+04],\n",
       "       [3.80e+01, 1.12e+05],\n",
       "       [4.60e+01, 7.90e+04],\n",
       "       [4.00e+01, 5.70e+04],\n",
       "       [3.70e+01, 8.00e+04],\n",
       "       [4.60e+01, 8.20e+04],\n",
       "       [5.30e+01, 1.43e+05],\n",
       "       [4.20e+01, 1.49e+05],\n",
       "       [3.80e+01, 5.90e+04],\n",
       "       [5.00e+01, 8.80e+04],\n",
       "       [5.60e+01, 1.04e+05],\n",
       "       [4.10e+01, 7.20e+04],\n",
       "       [5.10e+01, 1.46e+05],\n",
       "       [3.50e+01, 5.00e+04],\n",
       "       [5.70e+01, 1.22e+05],\n",
       "       [4.10e+01, 5.20e+04],\n",
       "       [3.50e+01, 9.70e+04],\n",
       "       [4.40e+01, 3.90e+04],\n",
       "       [3.70e+01, 5.20e+04],\n",
       "       [4.80e+01, 1.34e+05],\n",
       "       [3.70e+01, 1.46e+05],\n",
       "       [5.00e+01, 4.40e+04],\n",
       "       [5.20e+01, 9.00e+04],\n",
       "       [4.10e+01, 7.20e+04],\n",
       "       [4.00e+01, 5.70e+04],\n",
       "       [5.80e+01, 9.50e+04],\n",
       "       [4.50e+01, 1.31e+05],\n",
       "       [3.50e+01, 7.70e+04],\n",
       "       [3.60e+01, 1.44e+05],\n",
       "       [5.50e+01, 1.25e+05],\n",
       "       [3.50e+01, 7.20e+04],\n",
       "       [4.80e+01, 9.00e+04],\n",
       "       [4.20e+01, 1.08e+05],\n",
       "       [4.00e+01, 7.50e+04],\n",
       "       [3.70e+01, 7.40e+04],\n",
       "       [4.70e+01, 1.44e+05],\n",
       "       [4.00e+01, 6.10e+04],\n",
       "       [4.30e+01, 1.33e+05],\n",
       "       [5.90e+01, 7.60e+04],\n",
       "       [6.00e+01, 4.20e+04],\n",
       "       [3.90e+01, 1.06e+05],\n",
       "       [5.70e+01, 2.60e+04],\n",
       "       [5.70e+01, 7.40e+04],\n",
       "       [3.80e+01, 7.10e+04],\n",
       "       [4.90e+01, 8.80e+04],\n",
       "       [5.20e+01, 3.80e+04],\n",
       "       [5.00e+01, 3.60e+04],\n",
       "       [5.90e+01, 8.80e+04],\n",
       "       [3.50e+01, 6.10e+04],\n",
       "       [3.70e+01, 7.00e+04],\n",
       "       [5.20e+01, 2.10e+04],\n",
       "       [4.80e+01, 1.41e+05],\n",
       "       [3.70e+01, 9.30e+04],\n",
       "       [3.70e+01, 6.20e+04],\n",
       "       [4.80e+01, 1.38e+05],\n",
       "       [4.10e+01, 7.90e+04],\n",
       "       [3.70e+01, 7.80e+04],\n",
       "       [3.90e+01, 1.34e+05],\n",
       "       [4.90e+01, 8.90e+04],\n",
       "       [5.50e+01, 3.90e+04],\n",
       "       [3.70e+01, 7.70e+04],\n",
       "       [3.50e+01, 5.70e+04],\n",
       "       [3.60e+01, 6.30e+04],\n",
       "       [4.20e+01, 7.30e+04],\n",
       "       [4.30e+01, 1.12e+05],\n",
       "       [4.50e+01, 7.90e+04],\n",
       "       [4.60e+01, 1.17e+05],\n",
       "       [5.80e+01, 3.80e+04],\n",
       "       [4.80e+01, 7.40e+04],\n",
       "       [3.70e+01, 1.37e+05],\n",
       "       [3.70e+01, 7.90e+04],\n",
       "       [4.00e+01, 6.00e+04],\n",
       "       [4.20e+01, 5.40e+04],\n",
       "       [5.10e+01, 1.34e+05],\n",
       "       [4.70e+01, 1.13e+05],\n",
       "       [3.60e+01, 1.25e+05],\n",
       "       [3.80e+01, 5.00e+04],\n",
       "       [4.20e+01, 7.00e+04],\n",
       "       [3.90e+01, 9.60e+04],\n",
       "       [3.80e+01, 5.00e+04],\n",
       "       [4.90e+01, 1.41e+05],\n",
       "       [3.90e+01, 7.90e+04],\n",
       "       [3.90e+01, 7.50e+04],\n",
       "       [5.40e+01, 1.04e+05],\n",
       "       [3.50e+01, 5.50e+04],\n",
       "       [4.50e+01, 3.20e+04],\n",
       "       [3.60e+01, 6.00e+04],\n",
       "       [5.20e+01, 1.38e+05],\n",
       "       [5.30e+01, 8.20e+04],\n",
       "       [4.10e+01, 5.20e+04],\n",
       "       [4.80e+01, 3.00e+04],\n",
       "       [4.80e+01, 1.31e+05],\n",
       "       [4.10e+01, 6.00e+04],\n",
       "       [4.10e+01, 7.20e+04],\n",
       "       [4.20e+01, 7.50e+04],\n",
       "       [3.60e+01, 1.18e+05],\n",
       "       [4.70e+01, 1.07e+05],\n",
       "       [3.80e+01, 5.10e+04],\n",
       "       [4.80e+01, 1.19e+05],\n",
       "       [4.20e+01, 6.50e+04],\n",
       "       [4.00e+01, 6.50e+04],\n",
       "       [5.70e+01, 6.00e+04],\n",
       "       [3.60e+01, 5.40e+04],\n",
       "       [5.80e+01, 1.44e+05],\n",
       "       [3.50e+01, 7.90e+04],\n",
       "       [3.80e+01, 5.50e+04],\n",
       "       [3.90e+01, 1.22e+05],\n",
       "       [5.30e+01, 1.04e+05],\n",
       "       [3.50e+01, 7.50e+04],\n",
       "       [3.80e+01, 6.50e+04],\n",
       "       [4.70e+01, 5.10e+04],\n",
       "       [4.70e+01, 1.05e+05],\n",
       "       [4.10e+01, 6.30e+04],\n",
       "       [5.30e+01, 7.20e+04],\n",
       "       [5.40e+01, 1.08e+05],\n",
       "       [3.90e+01, 7.70e+04],\n",
       "       [3.80e+01, 6.10e+04],\n",
       "       [3.80e+01, 1.13e+05],\n",
       "       [3.70e+01, 7.50e+04],\n",
       "       [4.20e+01, 9.00e+04],\n",
       "       [3.70e+01, 5.70e+04],\n",
       "       [3.60e+01, 9.90e+04],\n",
       "       [6.00e+01, 3.40e+04],\n",
       "       [5.40e+01, 7.00e+04],\n",
       "       [4.10e+01, 7.20e+04],\n",
       "       [4.00e+01, 7.10e+04],\n",
       "       [4.20e+01, 5.40e+04],\n",
       "       [4.30e+01, 1.29e+05],\n",
       "       [5.30e+01, 3.40e+04],\n",
       "       [4.70e+01, 5.00e+04],\n",
       "       [4.20e+01, 7.90e+04],\n",
       "       [4.20e+01, 1.04e+05],\n",
       "       [5.90e+01, 2.90e+04],\n",
       "       [5.80e+01, 4.70e+04],\n",
       "       [4.60e+01, 8.80e+04],\n",
       "       [3.80e+01, 7.10e+04],\n",
       "       [5.40e+01, 2.60e+04],\n",
       "       [6.00e+01, 4.60e+04],\n",
       "       [6.00e+01, 8.30e+04],\n",
       "       [3.90e+01, 7.30e+04],\n",
       "       [5.90e+01, 1.30e+05],\n",
       "       [3.70e+01, 8.00e+04],\n",
       "       [4.60e+01, 3.20e+04],\n",
       "       [4.60e+01, 7.40e+04],\n",
       "       [4.20e+01, 5.30e+04],\n",
       "       [4.10e+01, 8.70e+04],\n",
       "       [5.80e+01, 2.30e+04],\n",
       "       [4.20e+01, 6.40e+04],\n",
       "       [4.80e+01, 3.30e+04],\n",
       "       [4.40e+01, 1.39e+05],\n",
       "       [4.90e+01, 2.80e+04],\n",
       "       [5.70e+01, 3.30e+04],\n",
       "       [5.60e+01, 6.00e+04],\n",
       "       [4.90e+01, 3.90e+04],\n",
       "       [3.90e+01, 7.10e+04],\n",
       "       [4.70e+01, 3.40e+04],\n",
       "       [4.80e+01, 3.50e+04],\n",
       "       [4.80e+01, 3.30e+04],\n",
       "       [4.70e+01, 2.30e+04],\n",
       "       [4.50e+01, 4.50e+04],\n",
       "       [6.00e+01, 4.20e+04],\n",
       "       [3.90e+01, 5.90e+04],\n",
       "       [4.60e+01, 4.10e+04],\n",
       "       [5.10e+01, 2.30e+04],\n",
       "       [5.00e+01, 2.00e+04],\n",
       "       [3.60e+01, 3.30e+04],\n",
       "       [4.90e+01, 3.60e+04]])"
      ]
     },
     "execution_count": 5,
     "metadata": {},
     "output_type": "execute_result"
    }
   ],
   "source": [
    "X"
   ]
  },
  {
   "cell_type": "code",
   "execution_count": 6,
   "metadata": {},
   "outputs": [],
   "source": [
    "from sklearn.model_selection import train_test_split\n",
    "X_train, X_test, y_train, y_test = train_test_split(X, y, test_size= 0.25, random_state=42)"
   ]
  },
  {
   "cell_type": "code",
   "execution_count": 7,
   "metadata": {},
   "outputs": [
    {
     "name": "stdout",
     "output_type": "stream",
     "text": [
      "(300, 2)\n",
      "(100, 2)\n",
      "(300,)\n",
      "(100,)\n"
     ]
    }
   ],
   "source": [
    "print(X_train.shape)\n",
    "print(X_test.shape)\n",
    "print(y_train.shape)\n",
    "print(y_test.shape)"
   ]
  },
  {
   "cell_type": "code",
   "execution_count": 8,
   "metadata": {},
   "outputs": [],
   "source": [
    "from sklearn.preprocessing import StandardScaler\n",
    "sc = StandardScaler()\n",
    "X_train = sc.fit_transform(X_train)\n",
    "X_test = sc.transform(X_test)"
   ]
  },
  {
   "cell_type": "code",
   "execution_count": 9,
   "metadata": {},
   "outputs": [],
   "source": [
    "from sklearn.svm import SVC"
   ]
  },
  {
   "cell_type": "code",
   "execution_count": 10,
   "metadata": {},
   "outputs": [
    {
     "data": {
      "text/plain": [
       "SVC(kernel='linear', random_state=0)"
      ]
     },
     "execution_count": 10,
     "metadata": {},
     "output_type": "execute_result"
    }
   ],
   "source": [
    "clf = SVC(kernel='linear', random_state=0)\n",
    "clf.fit(X_train, y_train)"
   ]
  },
  {
   "cell_type": "code",
   "execution_count": 11,
   "metadata": {},
   "outputs": [],
   "source": [
    "pred = clf.predict(X_test)"
   ]
  },
  {
   "cell_type": "code",
   "execution_count": 12,
   "metadata": {},
   "outputs": [
    {
     "data": {
      "text/plain": [
       "array([[61,  2],\n",
       "       [12, 25]], dtype=int64)"
      ]
     },
     "execution_count": 12,
     "metadata": {},
     "output_type": "execute_result"
    }
   ],
   "source": [
    "from sklearn.metrics import confusion_matrix\n",
    "confusion_matrix(y_test, pred)"
   ]
  },
  {
   "cell_type": "code",
   "execution_count": 13,
   "metadata": {},
   "outputs": [
    {
     "data": {
      "text/plain": [
       "0.86"
      ]
     },
     "execution_count": 13,
     "metadata": {},
     "output_type": "execute_result"
    }
   ],
   "source": [
    "from sklearn.metrics import accuracy_score\n",
    "accuracy_score(y_test, pred)"
   ]
  },
  {
   "cell_type": "code",
   "execution_count": 14,
   "metadata": {},
   "outputs": [],
   "source": [
    "from sklearn.model_selection import GridSearchCV"
   ]
  },
  {
   "cell_type": "code",
   "execution_count": 16,
   "metadata": {},
   "outputs": [],
   "source": [
    "params = [{'C':[1,10,50,100,1000], 'kernel':['linear']},\n",
    "         {'C':[1,10,50,100,1000], 'kernel':['rbf'], 'gamma':[0.1, 0.2, 0.3, 0.4, 0.5, 0.6, 0.7, 0.8, 0.9, 1.0]}]\n",
    "grid_search = GridSearchCV(estimator=clf,\n",
    "                    param_grid = params,\n",
    "                    scoring='accuracy',\n",
    "                    n_jobs=-1,\n",
    "                    cv=10\n",
    "    )"
   ]
  },
  {
   "cell_type": "code",
   "execution_count": 17,
   "metadata": {},
   "outputs": [
    {
     "data": {
      "text/plain": [
       "GridSearchCV(cv=10, estimator=SVC(kernel='linear', random_state=0), n_jobs=-1,\n",
       "             param_grid=[{'C': [1, 10, 50, 100, 1000], 'kernel': ['linear']},\n",
       "                         {'C': [1, 10, 50, 100, 1000],\n",
       "                          'gamma': [0.1, 0.2, 0.3, 0.4, 0.5, 0.6, 0.7, 0.8, 0.9,\n",
       "                                    1.0],\n",
       "                          'kernel': ['rbf']}],\n",
       "             scoring='accuracy')"
      ]
     },
     "execution_count": 17,
     "metadata": {},
     "output_type": "execute_result"
    }
   ],
   "source": [
    "grid_search.fit(X_train, y_train)"
   ]
  },
  {
   "cell_type": "code",
   "execution_count": 19,
   "metadata": {},
   "outputs": [
    {
     "data": {
      "text/plain": [
       "0.9099999999999999"
      ]
     },
     "execution_count": 19,
     "metadata": {},
     "output_type": "execute_result"
    }
   ],
   "source": [
    "grid_search.best_score_"
   ]
  },
  {
   "cell_type": "code",
   "execution_count": 20,
   "metadata": {},
   "outputs": [
    {
     "data": {
      "text/plain": [
       "{'C': 1, 'gamma': 0.7, 'kernel': 'rbf'}"
      ]
     },
     "execution_count": 20,
     "metadata": {},
     "output_type": "execute_result"
    }
   ],
   "source": [
    "grid_search.best_params_"
   ]
  },
  {
   "cell_type": "code",
   "execution_count": 22,
   "metadata": {},
   "outputs": [
    {
     "data": {
      "text/plain": [
       "SVC(gamma=0.7)"
      ]
     },
     "execution_count": 22,
     "metadata": {},
     "output_type": "execute_result"
    }
   ],
   "source": [
    "classifier = SVC(C=1.0, kernel='rbf', gamma=0.7)\n",
    "classifier.fit(X_train, y_train)"
   ]
  },
  {
   "cell_type": "code",
   "execution_count": 23,
   "metadata": {},
   "outputs": [],
   "source": [
    "pred = classifier.predict(X_test)"
   ]
  },
  {
   "cell_type": "code",
   "execution_count": 24,
   "metadata": {},
   "outputs": [
    {
     "data": {
      "text/plain": [
       "array([[58,  5],\n",
       "       [ 1, 36]], dtype=int64)"
      ]
     },
     "execution_count": 24,
     "metadata": {},
     "output_type": "execute_result"
    }
   ],
   "source": [
    "confusion_matrix(y_test, pred)"
   ]
  },
  {
   "cell_type": "code",
   "execution_count": 25,
   "metadata": {},
   "outputs": [
    {
     "data": {
      "text/plain": [
       "0.94"
      ]
     },
     "execution_count": 25,
     "metadata": {},
     "output_type": "execute_result"
    }
   ],
   "source": [
    "accuracy_score(y_test, pred)"
   ]
  },
  {
   "cell_type": "code",
   "execution_count": 26,
   "metadata": {},
   "outputs": [],
   "source": [
    "#YAAAAAAAYYYYYY!!"
   ]
  },
  {
   "cell_type": "code",
   "execution_count": null,
   "metadata": {},
   "outputs": [],
   "source": []
  }
 ],
 "metadata": {
  "kernelspec": {
   "display_name": "Python 3",
   "language": "python",
   "name": "python3"
  },
  "language_info": {
   "codemirror_mode": {
    "name": "ipython",
    "version": 3
   },
   "file_extension": ".py",
   "mimetype": "text/x-python",
   "name": "python",
   "nbconvert_exporter": "python",
   "pygments_lexer": "ipython3",
   "version": "3.7.4"
  }
 },
 "nbformat": 4,
 "nbformat_minor": 2
}
